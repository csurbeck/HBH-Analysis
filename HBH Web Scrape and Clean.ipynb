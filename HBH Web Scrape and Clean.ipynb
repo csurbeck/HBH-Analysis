{
 "cells": [
  {
   "cell_type": "code",
   "execution_count": 1,
   "id": "af010bdc",
   "metadata": {},
   "outputs": [
    {
     "name": "stdout",
     "output_type": "stream",
     "text": [
      "Requirement already satisfied: requests in /Users/clairesurbeck/opt/anaconda3/lib/python3.9/site-packages (2.28.1)\n",
      "Requirement already satisfied: beautifulsoup4 in /Users/clairesurbeck/opt/anaconda3/lib/python3.9/site-packages (4.11.1)\n",
      "Requirement already satisfied: idna<4,>=2.5 in /Users/clairesurbeck/opt/anaconda3/lib/python3.9/site-packages (from requests) (3.3)\n",
      "Requirement already satisfied: urllib3<1.27,>=1.21.1 in /Users/clairesurbeck/opt/anaconda3/lib/python3.9/site-packages (from requests) (1.26.11)\n",
      "Requirement already satisfied: charset-normalizer<3,>=2 in /Users/clairesurbeck/opt/anaconda3/lib/python3.9/site-packages (from requests) (2.0.4)\n",
      "Requirement already satisfied: certifi>=2017.4.17 in /Users/clairesurbeck/opt/anaconda3/lib/python3.9/site-packages (from requests) (2022.9.24)\n",
      "Requirement already satisfied: soupsieve>1.2 in /Users/clairesurbeck/opt/anaconda3/lib/python3.9/site-packages (from beautifulsoup4) (2.3.1)\n",
      "Note: you may need to restart the kernel to use updated packages.\n"
     ]
    }
   ],
   "source": [
    "pip install requests beautifulsoup4"
   ]
  },
  {
   "cell_type": "code",
   "execution_count": 2,
   "id": "b82b5dc0",
   "metadata": {},
   "outputs": [],
   "source": [
    "import requests\n",
    "from bs4 import BeautifulSoup"
   ]
  },
  {
   "cell_type": "code",
   "execution_count": 3,
   "id": "ab64cea8",
   "metadata": {},
   "outputs": [
    {
     "name": "stdout",
     "output_type": "stream",
     "text": [
      "['https://www.halfbakedharvest.com/chocolate-lace-cookies/', 'https://www.halfbakedharvest.com/chili-beer-cheese-soup/', 'https://www.halfbakedharvest.com/chocolate-pudding-cakes/', 'https://www.halfbakedharvest.com/turmeric-chicken-tenders/', 'https://www.halfbakedharvest.com/chicken-and-rice-soup/', 'https://www.halfbakedharvest.com/potstickers-in-red-curry-garlic-broth/', 'https://www.halfbakedharvest.com/salsa-chicken-rice-bake/', 'https://www.halfbakedharvest.com/5-ingredient-magic-cookies/', 'https://www.halfbakedharvest.com/buffalo-chicken-dip-sliders/', 'https://www.halfbakedharvest.com/lentil-tomato-soup/', 'https://www.halfbakedharvest.com/double-chocolate-muffins/', 'https://www.halfbakedharvest.com/garlic-chicken-udon-noodles/', 'https://www.halfbakedharvest.com/cinnamon-crunch-yogurt-coffee-cake/', 'https://www.halfbakedharvest.com/baked-coconut-chicken-tikka-masala/', 'https://www.halfbakedharvest.com/peanut-beef-rolls/', 'https://www.halfbakedharvest.com/brown-butter-oatmeal-chocolate-chip-cookie-bars/', 'https://www.halfbakedharvest.com/white-bean-lemon-soup/', 'https://www.halfbakedharvest.com/samoa-cookie-bars/', 'https://www.halfbakedharvest.com/harissa-butter-chicken/', 'https://www.halfbakedharvest.com/black-bean-sweet-potato-enchiladas/', 'https://www.halfbakedharvest.com/peanut-chicken-katsu-ramen/', 'https://www.halfbakedharvest.com/roasted-sweet-potato-salad/', 'https://www.halfbakedharvest.com/chocolate-chunk-greek-yogurt-banana-bread/', 'https://www.halfbakedharvest.com/salsa-verde-tortilla-soup/', 'https://www.halfbakedharvest.com/my-favorite-healthy-recipes-for-2025/', 'https://www.halfbakedharvest.com/the-25-most-popular-recipes-of-2024/', 'https://www.halfbakedharvest.com/goat-cheese-candied-bacon-dip/', 'https://www.halfbakedharvest.com/new-years-eve-recipes/', 'https://www.halfbakedharvest.com/spinach-and-artichoke-dip-rolls/', 'https://www.halfbakedharvest.com/pomegranate-moscow-mule/', 'https://www.halfbakedharvest.com/overnight-cinnamon-rolls/', 'https://www.halfbakedharvest.com/soft-pretzel-candy-canes/']\n"
     ]
    }
   ],
   "source": [
    "URL = \"https://www.halfbakedharvest.com/recipes/\"\n",
    "\n",
    "headers = {\n",
    "    \"User-Agent\": \"Mozilla/5.0 (X11; Ubuntu; Linux x86_64; rv:109.0) Gecko/20100101 Firefox/117.0\"\n",
    "}\n",
    "\n",
    "page = requests.get(URL, headers=headers)\n",
    "\n",
    "soup = BeautifulSoup(page.content, \"html.parser\")\n",
    "\n",
    "recipe_links = []\n",
    "\n",
    "recipe_name_list = soup.find_all(\"h3\",class_=\"post-summary__title\")\n",
    "for recipe in recipe_name_list:\n",
    "  if recipe.find(\"a\"):\n",
    "    recipe_links.append(recipe.find(\"a\")[\"href\"])\n",
    "\n",
    "print(recipe_links)"
   ]
  },
  {
   "cell_type": "code",
   "execution_count": 4,
   "id": "701b9a32",
   "metadata": {},
   "outputs": [],
   "source": [
    "URL = \"https://www.halfbakedharvest.com/chocolate-lace-cookies/\"\n",
    "\n",
    "page = requests.get(URL, headers=headers)\n",
    "\n",
    "soup = BeautifulSoup(page.content, \"html.parser\")"
   ]
  },
  {
   "cell_type": "code",
   "execution_count": 5,
   "id": "52f8527b",
   "metadata": {},
   "outputs": [
    {
     "name": "stdout",
     "output_type": "stream",
     "text": [
      "{'month': 'Feb', 'day': '4', 'year': '2025', 'title': 'Salted Chocolate Lace Cookies'}\n",
      "['salted butter', 'almond flour', 'sweetened condensed milk', 'vanilla extract', 'melted dark', 'flaked sea salt', 'chopped pistachios', 'melted white chocolate'] ['\\n\\t3 from 2 votes\\t']\n"
     ]
    }
   ],
   "source": [
    "recipe_data = {}\n",
    "\n",
    "recipe_date = soup.find(\"span\",class_=\"page-header__content-entry-date\").find_all(text=True)\n",
    "recipe_date = str(recipe_date)\n",
    "\n",
    "recipe_date = recipe_date.split(\" \")\n",
    "recipe_data[\"month\"] = recipe_date[0][2:]\n",
    "recipe_data[\"day\"] = recipe_date[1][:-1]\n",
    "recipe_data[\"year\"] = recipe_date[2][:4]\n",
    "\n",
    "recipe_title = soup.find(\"h2\",class_=\"wprm-recipe-name wprm-block-text-normal\").find_all(text=True)\n",
    "recipe_title = str(recipe_title)\n",
    "recipe_data[\"title\"] = recipe_title[2:-2]\n",
    "\n",
    "\n",
    "print(recipe_data)\n",
    "\n",
    "recipe_ingredients_dirty = soup.find_all(\"span\",class_=\"wprm-recipe-ingredient-name\")\n",
    "\n",
    "def cleanIngredient(ingr):\n",
    "    ingr = ingr.lower()\n",
    "    cleaned = \"\"\n",
    "    alpha = ['a', 'b', 'c', 'd', 'e', 'f', 'g', 'h', 'i', 'j',\n",
    "             'k', 'l', 'm', 'n', 'o', 'p', 'q', 'r', 's', 't',\n",
    "             'u', 'v', 'w', 'x', 'y', 'z', ' ']\n",
    "    for char in ingr:\n",
    "        if char in alpha:\n",
    "            cleaned += char\n",
    "    \n",
    "    return cleaned\n",
    "\n",
    "recipe_ingredients = []\n",
    "for recipe in recipe_ingredients_dirty:\n",
    "    cleaned = recipe.find_all(text=True)\n",
    "    cleaned = str(cleaned)\n",
    "    if \",\" in cleaned:\n",
    "        comma = cleaned.index(\",\")\n",
    "        cleaned = cleaned[:comma]\n",
    "    if \"and\" in cleaned:\n",
    "        cleaned = cleaned.split(\" and \")\n",
    "        for item in cleaned:\n",
    "            cleaned_item = cleanIngredient(item)\n",
    "            recipe_ingredients.append(cleaned_item)\n",
    "    if \"/\" in cleaned:\n",
    "        cleaned = cleaned.split(\"/\")\n",
    "        for item in cleaned:\n",
    "            cleaned_item = cleanIngredient(item)\n",
    "            recipe_ingredients.append(cleaned_item)\n",
    "    else:\n",
    "        cleaned_ingr = cleanIngredient(cleaned)\n",
    "        recipe_ingredients.append(cleaned_ingr)\n",
    "\n",
    "reviews = soup.find(\"div\",class_=\"wprm-user-rating-summary-details\").find_all(text=True)\n",
    "\n",
    "print(recipe_ingredients, reviews)\n",
    "# for recipe in recipe_name_list:\n",
    "#   if recipe.find(\"a\"):\n",
    "#     recipe_name.append(recipe.find(\"a\")[\"href\"])\n",
    "#     recipe_name.append(recipe.find(\"a\").text)\n",
    "\n",
    "# random_recipe_name = random.sample(recipe_name, 10)\n",
    "\n",
    "\n",
    "# print(random_recipe_name)\n"
   ]
  },
  {
   "cell_type": "code",
   "execution_count": null,
   "id": "42579115",
   "metadata": {},
   "outputs": [],
   "source": []
  }
 ],
 "metadata": {
  "kernelspec": {
   "display_name": "Python 3 (ipykernel)",
   "language": "python",
   "name": "python3"
  },
  "language_info": {
   "codemirror_mode": {
    "name": "ipython",
    "version": 3
   },
   "file_extension": ".py",
   "mimetype": "text/x-python",
   "name": "python",
   "nbconvert_exporter": "python",
   "pygments_lexer": "ipython3",
   "version": "3.9.13"
  }
 },
 "nbformat": 4,
 "nbformat_minor": 5
}
